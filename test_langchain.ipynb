{
 "cells": [
  {
   "cell_type": "code",
   "execution_count": 3,
   "metadata": {},
   "outputs": [],
   "source": [
    "# Import relevant functionality\n",
    "# from langchain_anthropic import ChatAnthropic\n",
    "from langchain_ollama import ChatOllama\n",
    "from langchain_community.tools.tavily_search import TavilySearchResults\n",
    "from langchain_core.messages import HumanMessage, SystemMessage, ToolMessage\n",
    "from langgraph.checkpoint.memory import MemorySaver\n",
    "from langgraph.prebuilt import create_react_agent\n"
   ]
  },
  {
   "cell_type": "code",
   "execution_count": 4,
   "metadata": {},
   "outputs": [],
   "source": [
    "import os\n",
    "import getpass\n",
    "\n",
    "os.environ[\"TAVILY_API_KEY\"] = \"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\"\n",
    "os.environ[\"LANGCHAIN_TRACING_V2\"] = \"true\"\n",
    "os.environ[\"LANGCHAIN_API_KEY\"] = getpass.getpass()"
   ]
  },
  {
   "cell_type": "code",
   "execution_count": null,
   "metadata": {},
   "outputs": [],
   "source": [
    "# Create the agent\n",
    "memory = MemorySaver()\n",
    "# model = ChatAnthropic(model_name=\"claude-3-sonnet-20240229\")\n",
    "llm = ChatOllama(\n",
    "    model = \"llama3.2:1b\",\n",
    "    temperature = 0.8,\n",
    "    num_predict = 256,\n",
    "    disable_streaming=False\n",
    "\n",
    ")\n",
    "messages = [ (\"system\", \"You are a math professor. Your job is to solve the user's math problems\"), (\"user\", \"What is an eigevalue\")]\n",
    "response = llm.invoke(messages)\n",
    "print(response)\n",
    "search = TavilySearchResults(\n",
    "    max_results=5,\n",
    "    include_answer=True,\n",
    "    include_raw_content=True,\n",
    "    include_images=True)\n",
    "\n",
    "tools = [search]\n",
    "agent_executor = create_react_agent(llm, tools, checkpointer=memory)\n",
    "\n",
    "# Use the agent\n",
    "config = {\"configurable\": {\"thread_id\": \"abc123\"}} # specify therad id to it agent knows from which thread/conversation to load state from\n",
    "# for chunk in agent_executor.stream(\n",
    "#     {\"messages\": [HumanMessage(content=\"hi im bob! and i live in ottawa\")]}, config\n",
    "# ):\n",
    "#     print(chunk)\n",
    "#     print(\"----\")\n",
    "\n"
   ]
  },
  {
   "cell_type": "code",
   "execution_count": null,
   "metadata": {},
   "outputs": [],
   "source": [
    "messages = [\n",
    "    (\"human\", \"Return the words Hello World!\"),\n",
    "]\n",
    "for chunk in llm.stream(messages):\n",
    "    print(chunk)"
   ]
  },
  {
   "cell_type": "code",
   "execution_count": null,
   "metadata": {},
   "outputs": [],
   "source": [
    "for chunk in agent_executor.stream(\n",
    "    {\"messages\": [HumanMessage(content=\"whats the weather where I live?\")]}, config\n",
    "):\n",
    "    print(chunk)\n",
    "    print(\"----\")"
   ]
  },
  {
   "cell_type": "code",
   "execution_count": null,
   "metadata": {},
   "outputs": [],
   "source": [
    "async for event in agent_executor.astream_events(\n",
    "    {\"messages\": [SystemMessage(content=\"You are a helpful assistant\"), HumanMessage(content=\"where should I move from where I live currently if I want weather that is the same as where I am now?\")]}, version=\"v1\", config=config\n",
    "):\n",
    "    print(event)\n",
    "    kind = event[\"event\"]\n",
    "    if kind == \"on_chain_start\":\n",
    "        if (\n",
    "            event[\"name\"] == \"Agent\"\n",
    "        ):  # Was assigned when creating the agent with `.with_config({\"run_name\": \"Agent\"})`\n",
    "            print(\n",
    "                f\"Starting agent: {event['name']} with input: {event['data'].get('input')}\"\n",
    "            )\n",
    "    elif kind == \"on_chain_end\":\n",
    "        if (\n",
    "            event[\"name\"] == \"Agent\"\n",
    "        ):  # Was assigned when creating the agent with `.with_config({\"run_name\": \"Agent\"})`\n",
    "            print()\n",
    "            print(\"--\")\n",
    "            print(\n",
    "                f\"Done agent: {event['name']} with output: {event['data'].get('output')['output']}\"\n",
    "            )\n",
    "    if kind == \"on_chat_model_stream\":\n",
    "        content = event[\"data\"][\"chunk\"].content\n",
    "        print(\"on model stream\")\n",
    "        if content:\n",
    "            # Empty content in the context of OpenAI means\n",
    "            # that the model is asking for a tool to be invoked.\n",
    "            # So we only print non-empty content\n",
    "            print(content, end=\"|\")\n",
    "    elif kind == \"on_tool_start\":\n",
    "        print(\"--\")\n",
    "        print(\n",
    "            f\"Starting tool: {event['name']} with inputs: {event['data'].get('input')}\"\n",
    "        )\n",
    "    elif kind == \"on_tool_end\":\n",
    "        print(f\"Done tool: {event['name']}\")\n",
    "        print(f\"Tool output was: {event['data'].get('output')}\")\n",
    "        print(\"--\")"
   ]
  },
  {
   "cell_type": "code",
   "execution_count": 6,
   "metadata": {},
   "outputs": [],
   "source": [
    "os.environ[\"GROQ_API_KEY\"] = getpass.getpass()\n",
    "\n",
    "from langchain_groq import ChatGroq\n",
    "\n",
    "model = ChatGroq(model=\"llama3-8b-8192\")"
   ]
  },
  {
   "cell_type": "code",
   "execution_count": 9,
   "metadata": {},
   "outputs": [],
   "source": [
    "llm = ChatGroq(model=\"llama3-8b-8192\")\n",
    "search = TavilySearchResults(\n",
    "    max_results=5,\n",
    "    include_answer=True,\n",
    "    include_raw_content=True,\n",
    "    include_images=True)\n",
    "\n",
    "tools = [search]\n",
    "agent_executor = create_react_agent(llm, tools, checkpointer=memory)"
   ]
  },
  {
   "cell_type": "code",
   "execution_count": 13,
   "metadata": {},
   "outputs": [
    {
     "name": "stdout",
     "output_type": "stream",
     "text": [
      "--\n",
      "Starting tool: tavily_search_results_json with inputs: {'query': 'blackpink rose number one girl'}\n",
      "Done tool: tavily_search_results_json\n",
      "Tool output was: content='[{\"url\": \"https://kbizoom.com/rose-number-one-girl-lyrics-meaning-and-song-credits/\", \"content\": \"A Korean media outlet has confirmed that BLACKPINK\\'s Rosé will perform \\\\\"number one girl\\\\\" for the first time at the 2024 MAMA AWARDS, which will be held at the Kyocera Dome in Osaka, Japan, on November 22 (KST).. Composed solely of ROSÉ\\'s voice and piano accompaniment, \\\\\"number one girl\\\\\" showcases her unparalleled vocal abilities. The rich emotional expression and poignant appeal\"}, {\"url\": \"https://apnews.com/article/blackpink-rose-rosie-kpop-music-review-fe095125d478df249be8c58343bbedb3\", \"content\": \"Rosé, the nightingale of the massively popular Korean girl group Blackpink, has flown the nest and launched her first solo album \\\\\"Rosie.\\\\\" ... The album starts off chipper, with the soaring piano ballad \\\\\"Number One Girl,\\\\\" the cool synth-pop track \\\\\"Two Years,\\\\\" the dynamic, catchy Bruno Mars collaboration \\\\\"Apt.,\\\\\" and the\"}, {\"url\": \"https://www.upi.com/Entertainment_News/Music/2024/11/22/korea-rose-number-one-girl-single-music-video-blackpink/3361732294324/\", \"content\": \"Nov. 22 (UPI) --New Zealand singer Rosé is back with new solo music. The K-pop star, a member of the South Korean girl group Blackpink, released a single and music video for the song \\\\\"Number One\"}, {\"url\": \"https://www.rollingstone.com/music/music-news/rose-number-one-girl-blackpink-song-video-1235176779/\", \"content\": \"\\\\\"Number One Girl\\\\\" marks the second single off Rosé\\'s debut album Rosie, set to release Dec. 6. The album\\'s lead single \\\\\"Apt\\\\\" — the flirtatious track with Mars about a Korean\"}, {\"url\": \"https://www.teenvogue.com/story/blackpink-rose-number-one-girl-music-video\", \"content\": \"Aside from \\\\\"APT.\\\\\" and \\\\\"number one girl,\\\\\" Rosé\\'s rosie will feature 10 more songs for a total of 12 tracks. Rosé teased some of the songs — including \\\\\"toxic till the end,\\\\\" \\\\\"Game Boy\"}]' name='tavily_search_results_json' tool_call_id='call_jbxe' artifact={'query': 'blackpink rose number one girl', 'follow_up_questions': None, 'answer': 'BLACKPINK\\'s Rosé will perform her song \"Number One Girl\" for the first time at the 2024 MAMA AWARDS on November 22. The song is featured on her debut album \"Rosie,\" which is set to release on December 6, 2024. \"Number One Girl\" is a piano ballad that highlights her vocal abilities, and it follows the lead single \"Apt,\" a collaboration with Bruno Mars.', 'images': ['https://billboardphilippines.com/wp-content/uploads/2024/11/rose-number-one-girl-ftr-img-1600x838.jpg', 'https://matikiri.net/data/cover/5627.jpg', 'https://imgeng.jagran.com/images/2024/12/01/article/image/blackpink-rose-bruno-mars-apt-music-video-shoot-kpop-group-comeback-1733073428262.webp', 'https://t.vgt.vn/2024/11/10/rose-cach-mat-cong-chua-kpop-con-cung-bi-doi-xu-the-nay-clip-3s-day-song-600x432-dee-7327848.webp', 'https://img.koreaboo.com/2024/11/Untitled-design-47.jpg'], 'results': [{'title': 'ROSÉ (로제) - number one girl Lyrics, Meaning, and Song Credits', 'url': 'https://kbizoom.com/rose-number-one-girl-lyrics-meaning-and-song-credits/', 'content': 'A Korean media outlet has confirmed that BLACKPINK\\'s Rosé will perform \"number one girl\" for the first time at the 2024 MAMA AWARDS, which will be held at the Kyocera Dome in Osaka, Japan, on November 22 (KST).. Composed solely of ROSÉ\\'s voice and piano accompaniment, \"number one girl\" showcases her unparalleled vocal abilities. The rich emotional expression and poignant appeal', 'score': 0.9991928, 'raw_content': 'ROSÉ (로제) – number one girl Lyrics, Meaning, and Song Credits\\nBlackPink Rose (BlackPink)\\n\"number one girl\" is the 2nd pre-release single from Rosé’s full-length album “rosie”, which touches the heart of fans with meaningful lyrics\\n\\nA Korean media outlet has confirmed that BLACKPINK’s Rosé will perform “number one girl” for the first time at the 2024 MAMA AWARDS, which will be held at the Kyocera Dome in Osaka, Japan, on November 22 (KST).\\nComposed solely of ROSÉ‘s voice and piano accompaniment, “number one girl” showcases her unparalleled vocal abilities. The rich emotional expression and poignant appeal embedded in her performance further solidify her standing as a distinguished artist.\\nSong: “number one girl”Artist: ROSÉAlbum: 1st full album “rosie”MV Release date: November 22, 2024Album Release date: December 6, 2024Production: Mars, D’Mile, Fedi, Lang, WigginsLyrics: Rosé, Amy Allen, Bruno Mars, Dernst Emile II, Carter Lang, Dylan Wiggins, Omer FediLabel: Atlantic Records, THEBLACKLABELDistributor: YG PLUS\\nROSÉ “number one girl” Official MV\\nROSÉ “number one girl” Lyrics\\n[Verse 1]Tell me that I’m special, tell me I look prettyTell me I’m a little angel, sweetheart of your citySay what I’m dying to hear‘Cause I’m dying to hear you\\n[Verse 2]Tell me I’m that new thing, tell me that I’m relevantTell me that I got a big heart, then back it up with evidenceI need it and I don’t know whyThis late at night\\n[Chorus]Isn’t it lonely?I’d do anything to make you want meI’d give it all up if you told me that I’d beThe number one girl in your eyesYour one and onlySo what’s it gon’ take for you to want me?I’d give it all up if you told me that I’d beThe number one girl in your eyes\\n[Verse 3]Tell me I’m going real big places, down to earth, so friendlyAnd even through all the phases, tell me you accept meWell, that’s all I’m dying to hearYeah, I’m dying to hear you\\n[Verse 4]Tell me that you need me, tell me that I’m lovedTell me that I’m worth it, and that I’m enoughI need it and I don’t know whyThis late at night\\n[Chorus]Isn’t it lonely?I’d do anything to make you want meI’d give it all up if you told me that I’d beThe number one girl in your eyesYour one and onlySo what’s it gon’ take for you to want me?I’d give it all up if you told me that I’d beThe number one girl in your eyes\\n[Bridge]The girl in your eyes, the girl in your eyesTell me I’m the number one girlI’m the number one girl in your eyesThe girl in your eyes, the girl in your eyesTell me I’m the number one girlI’m the number one girl in your eyes\\n[Chorus]Well, isn’t it lonely?I’d do anything to make you want meI’d give it all up if you told me that I’d beThe number one girl in your eyesYour one and onlySo what’s it gon’ take for you to want me?I’d give it all up if you told me that I’d beThe number one girl in your eyesThe number one girl in your eyes\\nROSÉ “number one girl” Meaning\\n“number one girl” is a deeply introspective track that emerges from moments of profound loneliness and solitude, painting a poignant picture of emotional vulnerability. The song captures the narrator’s yearning for affirmation and recognition, as they persistently plead to be reassured as their partner’s “number one girl.” Through this heartfelt confession, the track lays bare the raw emotions of a fragile and solitary heart, resonating powerfully with listeners who have faced similar feelings of longing and insecurity.\\nROSÉ, who took part in both the composition and lyrics, infused the song with her own real-life experiences, offering a more honest and personal narrative unique to her. She shared that the song reflects her past self, lying awake in the early hours after reading harsh comments.\\nFollowing the song’s release, ROSÉ wrote on her official account, “This song is dedicated to all the girls and boys who wish to be someone’s number one,” a heartfelt message that moved countless music fans.\\nSource: Melon, Daum\\n\\n Dont\\' Miss \\n\\nRosé (BLACKPINK) showed off her explosive visual, published her picture and tagged Loren after the dating rumor\\n\\n\\nBoth cladded in black, yet BLACKPINK Jisoo and Rosé brings completely different vibes to Paris Fashion Week\\n\\n\\nBLACKPINK Jennie, “Off stage I’m just a normal, shy girl”\\n\\n\\nTWICE, BLACKPINK, and Red Velvet may as well form new groups with their Instagram accounts\\n\\n\\nAll the way YG Entertainment makes Jeon Somi shine\\xa0\\n\\n\\nBLACKPINK Rosé will be the first Kpop idol to attend Met Gala – the biggest fashion event on the planet!\\n\\nTrending Now\\n\\n‘Trunk’s Bed Scenes Sparks Explosive Reactions Even Before Release\\n\\n\\n\\nFollowing Song Jae-rim, Actor Park Min-jae Passed Away in His 30s\\n\\n\\n\\nYoo Yeon-seok Profile: From Dating Rumors to Controversies (2024 Updated)\\n\\n\\n\\nHYBE Identifies YouTubers Behind Defamatory Content Against ILLIT and LE SSERAFIM\\n\\n\\n\\nActress Seo Hyun-jin revealed the reason why she lost weight noticeably\\n\\n\\nFollow us for the latest entertainment news\\nDon\\'t forget to subscribe to us to update the hottest information today!\\naespa\\nBlackPink\\nBTS\\nJennie (BlackPink)\\nJisoo (BlackPink)\\nLisa (BLACKPINK)\\nNewJeans\\nSong Hye-kyo\\nTWICE\\nKorea\\nWorld\\nLegal\\nCopyright © 2024 KBIZoom.\\n'}, {'title': \"'Rosie' review: K-pop star Rosé's debut solo album is heartfelt, but ...\", 'url': 'https://apnews.com/article/blackpink-rose-rosie-kpop-music-review-fe095125d478df249be8c58343bbedb3', 'content': 'Rosé, the nightingale of the massively popular Korean girl group Blackpink, has flown the nest and launched her first solo album \"Rosie.\" ... The album starts off chipper, with the soaring piano ballad \"Number One Girl,\" the cool synth-pop track \"Two Years,\" the dynamic, catchy Bruno Mars collaboration \"Apt.,\" and the', 'score': 0.9984633, 'raw_content': \"Copyright 2024 The Associated Press. All Rights Reserved.\\nMusic Review: Blackpink K-pop star Rosé's debut solo album ‘Rosie’ is heartfelt, but slightly sleepy\\nThis album cover image released by Atlantic Records shows Rosé's debut solo collection “rosie.” (Atlantic Records via AP)\\nRosé, the nightingale of the massively popular Korean girl group Blackpink, has flown the nest and launched her first solo album “Rosie.” She’s the first of the awesome foursome to release a full-length solo record, and in English at that. Members Jisoo and Jennie have previously released singles, and Lisa is gearing up for her own studio album in 2025.\\nAcross “Rosie,” titled after Rosé's nickname to communicate a kind of personal intimacy, the singer goes to great lengths to detach herself sonically from her band. Unlike Blackpink’s high energy electro-pop output, Rosé’s solo material is that of a coffee-house dweller with a sideline in romantic drama. But don’t expect finger-plucked acoustic guitar balladry exclusively — “Rosie” is reserved in some moments, full of life in others.\\nThe album starts off chipper, with the soaring piano ballad “Number One Girl,” the cool synth-pop track “Two Years,” the dynamic, catchy Bruno Mars collaboration “Apt.,” and the contemporary, Taylor Swift-indebted pop of “Toxic Till the End.” But it invariably slows down, preferring fairly stripped back production throughout. She’s got the voice and she’s flaunting it; it’s her prerogative to showcase her range at the expense of a more energetic beat.\\nRosé speaks during a discussion on mental health at the Apple campus in Cupertino, Calif., Friday, Nov. 17, 2023. (AP Photo/Jeff Chiu)\\n\\nAcross 12-tracks, the album studies heartache over lost loves (“It’s been two years and you’re still not gone/It doesn’t make sense that I can’t move on,” she sings on “Two Years”), missed chances (“Are we lovers or friends/'Cause it’s as good as it gets” in “Call it the End”) and ambivalence over situationships that probably should’ve been nipped in the bud but staggered along, strung by the power of lust and not much else. (That one is everywhere — particularly in the dubious boyfriends of “Toxic Till the End” and “Gameboy.”) Who can’t relate?\\nThe album is an emotional rollercoaster easy to empathize with, stuffed with songs that articulate the trials and tribulations of early adult years — the search for connection and getting dragged into romances that lead nowhere. But throughout, fans of both Blackpink and Rosé might miss the spirited songs of her group. After all — your 20s are for partying, too — not just heartbreak.\\n___\\nFor more AP reviews of recent music releases, visit: https://apnews.com/hub/music-reviews\\nCopyright 2024 The Associated Press. All Rights Reserved.\\n\"}, {'title': \"Blackpink's Rosé releases 'Number One Girl' single, music video\", 'url': 'https://www.upi.com/Entertainment_News/Music/2024/11/22/korea-rose-number-one-girl-single-music-video-blackpink/3361732294324/', 'content': 'Nov. 22 (UPI) --New Zealand singer Rosé is back with new solo music. The K-pop star, a member of the South Korean girl group Blackpink, released a single and music video for the song \"Number One', 'score': 0.993255, 'raw_content': 'Blackpink\\'s Rosé releases \\'Number One Girl\\' single, music video\\n\\n\\n\\nNov. 22 (UPI) -- New Zealand singer Rosé is back with new solo music.\\nThe K-pop star, a member of the South Korean girl group Blackpink, released a single and music video for the song \"Number One Girl\" on Friday.\\nAdvertisement\\nRosé directed the \"Number One Girl\" video, which shows her perform at night at different locations in Seoul, including a skate park.\\n\"Tell me I\\'m that new thing / Tell me that I\\'m relevant / Tell me that I got a big heart / Then back it up with evidence / I need it and I don\\'t know why / This late at night,\" she sings.\\nThe song expresses Rosé\\'s need for validation from the public, as she discussed in an interview with i-D.\\n\"I had been on the internet \\'til like 5 a.m. -- I couldn\\'t sleep because I was so obsessed with what these people were gonna say about me and what I wanted them to say about me,\" she shared. \"I was so disgusted at myself for it -- I never wanted to admit it to anyone, I didn\\'t even want to admit it to myself. But I had to be fully honest in the studio.\"\\nAdvertisement\\n\"Number One Girl\" appears on Rosé\\'s first full-length solo album, Rosie. The album is slated for release Dec. 6.\\nRosie also features the single \"Apt.\" with Bruno Mars, released in October. The album is Rosé\\'s follow-up to her 2021 debut single album, R.\\nBlackpink also consists of Jisoo, Jennie and Lisa. The group made its debut in 2016.\\n \\nK-pop stars walk the red carpet \\n\\n\\n\\n\\n\\n\\n\\n\\nLisa, of Blackpink, arrives on the red carpet at the MTV Video Music Awards at the UBS Arena in Elmont, N.Y., on September 11, 2024. Lisa recently released a performance video for her solo single \"Moonlit Floor.\" Photo by Derek C. French/UPI | License Photo \\nRead More\\nBlackpink\\'s Rose, Bruno Mars release \\'Apt.\\' single, music video\\nBlackpink\\'s Lisa announces \\'Alter Ego\\' solo album, release date\\nBlackpink\\'s Jennie performs new song \\'Mantra\\' on \\'Jimmy Kimmel\\' \\n\\n\\n\\n\\nLatest Headlines\\n\\n\\n\\n\\n\\n\\n\\nMusic // 7 minutes ago\\nTreasure play Romeo in \\'Last Night\\' single, music video\\n Dec. 5 (UPI) -- K-pop group Treasure released a single and music video for the romantic new song \"Last Night.\"\\n\\n\\n\\n\\n\\n\\n\\n\\n\\n\\nMusic // 4 hours ago\\nJustin Timberlake joins Jimmy Fallon for holiday \\'bromance\\' song\\n Dec. 5 (UPI) -- Justin Timberlake and Jimmy Fallon sang \"You\\'ll Be There,\" on Fallon\\'s \"Holiday Seasoning Spectacular\" Wednesday.\\n\\n\\n\\n\\n\\n\\n\\n\\n\\n\\nMusic // 1 day ago\\nParker McCollum to perform at \\'NYE Live: Nashville\\'s Big Bash\\' special\\n Dec. 4 (UPI) -- Parker McCollum has joined the CBS and Paramount+ special \"New Year\\'s Eve Live: Nashville\\'s Big Bash.\"\\n\\n\\n\\n\\n\\n\\n\\n\\n\\n\\nMusic // 1 day ago\\nDead & Company celebrates 10 years with Sphere shows\\n Dec. 4 (UPI) -- Dead & Company will celebrate 10 years together with a series of performances at the Las Vegas Sphere.\\n\\n\\n\\n\\n\\n\\n\\n\\n\\n\\nMusic // 2 days ago\\nV of BTS shares \\'silent carol version\\' of \\'Winter Ahead\\'\\n Dec. 3 (UPI) -- K-pop star V released a \"silent carol version\" of \"Winter Ahead,\" his holiday duet with Park Hyo-shin.\\n\\n\\n\\n\\n\\n\\n\\n\\n\\n\\nMusic // 3 days ago\\nAC/DC to tour North America for first time in almost a decade\\n Dec. 2 (UPI) -- AC/DC is taking its \"Power Up Tour\" to North America beginning April 10.\\n\\n\\n\\n\\n\\n\\n\\n\\n\\n\\nMusic // 3 days ago\\nMegan Thee Stallion joins Twice in \\'Strategy\\' music video teaser\\n Dec. 2 (UPI) -- K-pop group Twice released two previews of its music video for \"Strategy\" featuring Megan Thee Stallion.\\n\\n\\n\\n\\n\\n\\n\\n\\n\\n\\nMusic // 4 days ago\\nFormer My Chemical Romance drummer Bob Bryar dead at 44\\n Nov. 30 (UPI) -- Former My Chemical Romance drummer Bob Bryar has died at the age of 44.\\n\\n\\n\\n\\n\\n\\n\\n\\n\\n\\nMusic // 5 days ago\\nAteez\\'s \\'Golden Hour: Part. 2\\' tops U.S. album chart\\n Nov. 30 (UPI) -- Ateez\\'s \"Golden Hour: Part. 2\" is No. 1 on the U.S. album chart this week.\\n\\n\\n\\n\\n\\n\\n\\n\\n\\n\\nMusic // 1 week ago\\nThe Weeknd to release \\'Hurry Up Tomorrow\\' album Jan. 24\\n Nov. 27 (UPI) -- The Weeknd announced his upcoming album\\'s release date. \"Hurry Up Tomorrow\" drops Jan. 24.\\n\\n\\n\\n\\n\\n\\n\\nNov. 22 (UPI) -- New Zealand singer Rosé is back with new solo music.\\nThe K-pop star, a member of the South Korean girl group Blackpink, released a single and music video for the song \"Number One Girl\" on Friday.\\nAdvertisement\\nRosé directed the \"Number One Girl\" video, which shows her perform at night at different locations in Seoul, including a skate park.\\n\"Tell me I\\'m that new thing / Tell me that I\\'m relevant / Tell me that I got a big heart / Then back it up with evidence / I need it and I don\\'t know why / This late at night,\" she sings.\\nThe song expresses Rosé\\'s need for validation from the public, as she discussed in an interview with i-D.\\n\"I had been on the internet \\'til like 5 a.m. -- I couldn\\'t sleep because I was so obsessed with what these people were gonna say about me and what I wanted them to say about me,\" she shared. \"I was so disgusted at myself for it -- I never wanted to admit it to anyone, I didn\\'t even want to admit it to myself. But I had to be fully honest in the studio.\"\\nAdvertisement\\n\"Number One Girl\" appears on Rosé\\'s first full-length solo album, Rosie. The album is slated for release Dec. 6.\\nRosie also features the single \"Apt.\" with Bruno Mars, released in October. The album is Rosé\\'s follow-up to her 2021 debut single album, R.\\nBlackpink also consists of Jisoo, Jennie and Lisa. The group made its debut in 2016.\\n \\nK-pop stars walk the red carpet\\n\\nRead More\\nBlackpink\\'s Rose, Bruno Mars release \\'Apt.\\' single, music video\\nBlackpink\\'s Lisa announces \\'Alter Ego\\' solo album, release date\\nBlackpink\\'s Jennie performs new song \\'Mantra\\' on \\'Jimmy Kimmel\\' \\nRead More\\nLatest Headlines\\nTrending Stories\\nFollow Us\\n'}, {'title': \"Rosé 'Number One Girl': Blackpink Singer Drops New Solo Song, Video\", 'url': 'https://www.rollingstone.com/music/music-news/rose-number-one-girl-blackpink-song-video-1235176779/', 'content': '\"Number One Girl\" marks the second single off Rosé\\'s debut album Rosie, set to release Dec. 6. The album\\'s lead single \"Apt\" — the flirtatious track with Mars about a Korean', 'score': 0.9793935, 'raw_content': '\\n\\n\\t\\n\\t\\t\\n\\t\\t\\t\\t\\tRosé Drops Heartwrenching Ballad ‘Number One Girl’ Music Video\\t\\t\\n\\t\\t\\t\\n\\nRosé Drops Heartwrenching Ballad ‘Number One Girl’ Music Video\\n\\n\\t\\t\\t\\t\\t\\t\\tBy \\n\\n\\tKalia Richardson\\n\\n\\n\\n\\t\\n\\t\\t\\n\\t\\t\\t\\t\\tKalia Richardson\\t\\t\\n\\t\\t\\t\\n\\n\\n\\tFollowing her chart-topping track “Apt” with Bruno Mars, Rosé has released the sentimental, pop-punk single, “Number One Girl.” The stripped-back music video, released Friday as well, features a pig-tailed Rosé sitting in a vacant skate park crying for a nameless lover.\\n\\n\\t“Isn’t it lonely / I do anything to make you want me / I’d give it all up if you told me / That I’ll be / The number one girl in your eyes,” Rosé sings, in the self-directed music video.\\n\\n\\t“Number One Girl” marks the second single off Rosé’s debut album Rosie, set to release Dec. 6. The album’s lead single “Apt” — the flirtatious track with Mars about a\\xa0Korean “Apartment” drinking game — has spent the last four weeks at Number One on the Billboard Global 200 chart. While Rosie marks Rosé’s first full-length effort, she launched her solo career a few years back with the 2021 EP, R.\\n\\n\\tIn an Instagram post announcing Rosie, Rosé described feeling “confused and lost,” as she attempted to get a grip on her next career shift. With the help of her family, her team, and her fans, she was able to complete the 12-track debut album.\\n\\n\\t\\n\\n\\n\\n\\n\\n\\n\\n\\n\\n\\n\\t“I have poured my blood and tears into this album,” she wrote back in October. “I cannot wait for you to listen to this little journal of mine. Rosie – is the name I allow my friends and family to call me. With this album, I hope you all feel that much closer to me.”\\xa0\\n\\n\\tEarlier this week, Rosé’s Blackpink bandmate Lisa also announced her debut album, Alter Ego, set to release February 2025. Along with the album announcement, Lisa released a three-minute visual where she steps into five varying personas.\\n\\nMore News \\n\\n\\n\\t\\n\\t\\t\\n\\t\\t\\t\\t\\tDoechii Gives Badass Performance on \\'Colbert\\': \\'This Is Blackness. This Is History\\'\\t\\t\\n\\t\\t\\t\\n\\n\\n\\n\\t\\n\\t\\t\\n\\t\\t\\t\\t\\tSky Ferreira Shares the Unexpected Song She Wrote for \\'Babygirl\\' — and Promises ‘Masochism’ Is Coming\\t\\t\\n\\t\\t\\t\\n\\n\\n\\n\\t\\n\\t\\t\\n\\t\\t\\t\\t\\tTaylor Swift\\'s \\'Eras Tour Book\\' Sells Record-Breaking 814,000 Copies in Just Two Days\\t\\t\\n\\t\\t\\t\\n\\n\\n\\n\\t\\n\\t\\t\\n\\t\\t\\t\\t\\tTimothée Chalamet Thanks Bob Dylan for His Support of \\'A Complete Unknown\\'\\t\\t\\n\\t\\t\\t\\n\\n\\n\\n\\t\\n\\t\\t\\n\\t\\t\\t\\t\\tWatch Ice-T\\'s Body Count Showcase \\'Comfortably Numb\\' on \\'Fallon\\'\\t\\t\\n\\t\\t\\t\\n\\n\\n\\n\\t\\n\\t\\t\\n\\t\\t\\t\\t\\tDoechii Gives Badass Performance on \\'Colbert\\': \\'This Is Blackness. This Is History\\'\\t\\t\\n\\t\\t\\t\\n\\n\\n\\n\\t\\n\\t\\t\\n\\t\\t\\t\\t\\tJamie Foxx Declares \\'I\\'m Back\\' and Tears Up in Trailer for Stand-Up Special About Health Scare\\t\\t\\n\\t\\t\\t\\n\\n\\n\\n\\t\\n\\t\\t\\n\\t\\t\\t\\t\\tTaylor Swift\\'s \\'Eras Tour Book\\' Sells Record-Breaking 814,000 Copies in Just Two Days\\t\\t\\n\\t\\t\\t\\n\\n\\n\\n\\t\\n\\t\\t\\n\\t\\t\\t\\t\\tWords \\'Deny, Defend, Depose\\' Found on Shell Casings From UnitedHealthcare CEO Shooting\\t\\t\\n\\t\\t\\t\\n\\n\\n\\n\\t\\n\\t\\n\\t\\t\\n\\t\\t\\t\\t\\tTop stories newsletter\\t\\t\\n\\t\\n\\n\\n\\n\\t\\n\\t\\tMost Popular\\n\\t\\n\\t\\n\\n\\n\\t\\n\\t\\n\\t\\t\\n\\t\\t\\t\\t\\t\\'Last Week Tonight\\' Withdrawn From Critics Choice Awards Consideration Amid Controversy (Exclusive)\\t\\t\\n\\t\\n\\n\\n\\n\\t\\n\\t\\n\\t\\t\\n\\t\\t\\t\\t\\tJudy Greer Turned Down Audition for \\'Modern Family\\'s\\' Claire Dunphy Because She Didn\\'t Want to Be \\'America\\'s Mom\\': The Role \\'Felt So Limiting\\'\\t\\t\\n\\t\\n\\n\\n\\n\\t\\n\\t\\n\\t\\t\\n\\t\\t\\t\\t\\t178 Amazon Favorites That Have Earned a Spot In Everyone\\'s Cart\\t\\t\\n\\t\\n\\n\\n\\n\\t\\n\\t\\n\\t\\t\\n\\t\\t\\t\\t\\tNick Cannon Addresses Orlando Brown Saying He \"Sucked His Cannon\"\\t\\t\\n\\t\\n\\n\\n\\n\\t\\n\\t\\tYou might also like\\n\\t\\n\\t\\n\\n\\n\\t\\n\\t\\n\\t\\t\\n\\t\\t\\t\\t\\tEmily Blunt Talks About Reuniting With Dwayne Johnson in ‘Smashing Machine’: ‘He Is Unrecognizable in This Film’\\t\\t\\n\\t\\n\\n\\n\\n\\t\\n\\t\\n\\t\\t\\n\\t\\t\\t\\t\\tAfter Black Friday Win, What Retailers Need to Do\\xa0Now\\t\\t\\n\\t\\n\\n\\n\\n\\t\\n\\t\\n\\t\\t\\n\\t\\t\\t\\t\\tThe Best Yoga Mats for Any Practice, According to Instructors\\t\\t\\n\\t\\n\\n\\n\\n\\t\\n\\t\\n\\t\\t\\n\\t\\t\\t\\t\\t‘Shōgun’ Leads Critics Choice Awards 2025 TV Nominations: See Full List\\t\\t\\n\\t\\n\\n\\n\\n\\t\\n\\t\\n\\t\\t\\n\\t\\t\\t\\t\\tWhy U.S. Investors Are Major Players in UK\\xa0Sports\\t\\t\\n\\t\\n\\n\\n\\n\\t\\n\\t\\n\\t\\t\\n\\t\\t\\t\\t\\tFollow Us\\t\\t\\n\\t\\n\\n\\n\\n\\t\\n\\t\\n\\t\\t\\n\\t\\t\\t\\t\\tNewsletter Signup\\t\\t\\n\\t\\n\\n\\n\\n\\t\\n\\t\\n\\t\\t\\n\\t\\t\\t\\t\\tGot a Hot News Tip?\\t\\t\\n\\t\\n\\nWe want to hear it. Send us a tip using our anonymous form.\\nRolling Stone is a part of Penske Media Corporation. © 2024 Rolling Stone, LLC. All rights reserved.\\n'}, {'title': \"BLACKPINK's Rosé Directed the Video for 'Number One Girl' Herself\", 'url': 'https://www.teenvogue.com/story/blackpink-rose-number-one-girl-music-video', 'content': 'Aside from \"APT.\" and \"number one girl,\" Rosé\\'s rosie will feature 10 more songs for a total of 12 tracks. Rosé teased some of the songs — including \"toxic till the end,\" \"Game Boy', 'score': 0.9190633, 'raw_content': 'BLACKPINK\\'s Rosé Directed the Video for ‘Number One Girl’ Herself\\nAhead of the release of rosie on December 6 and following the success of “APT.” with Bruno Mars, BLACKPINK\\'s Rosé has unveiled a brand new song from the project, “number one girl,” complete with a music video directed by herself.\\nAfter a series of teasers on social media, Rosé finally released “number one girl\" on November 22, 2024, as the second single of her upcoming solo album. In contrast to the light-hearted and playful nature of “APT.\", “number one girl” falls more into balladry, with a heartbroken Rosé singing about unrequited love and longing for attention.\\nIn lieu of the pink-tinted visuals of “APT.”, the video for “number one girl” sees Rosé taking center stage, wandering solo at night around the streets of Seoul, singing her heart out from the top of a lookout, under the Jamsugyo bridge, at a skate park, and more. As mentioned before, the video was directed by Rosé, as confirmed to press, and features a camcorder-style retro feel.\\nSonically and aesthetically they might stand worlds apart, but there is a connecting thread between “APT.” and “number one girl,\" as both songs feature writing and producing credit by Bruno Mars. Rosé actually co-penned the new single alongside Mars, Amy Allen, D-Mile, Omer Fedi, Carter Lang, and Dylan Wiggins.\\nAside from “APT.” and “number one girl,\" Rosé\\'s rosie will feature 10 more songs for a total of 12 tracks. Rosé teased some of the songs — including “toxic till the end,” “Game Boy,” and “3AM” — during a recent Instagram live. The project will mark the singer\\'s first release since signing with The Black Label/Atlantic Records for her solo career. She will still work under YG Entertainment for BLACKPINK projects.\\nWant more great Culture stories from Teen Vogue? Check these out:\\nUnderneath Chappell Roan’s Hannah Montana Wig? A Pop Star for the Ages\\nIs Your New Favorite Song Real or AI?\\nBridgerton Showrunner Clarifies Benedict’s Sexuality & Talks Francesca’s Queer Plot Twist\\nThe Borders of Country Music Are Finally Crumbling\\nSometimes You Gotta Pop Out and Show Your Alignment With Abusers\\nA New Generation of Pretty Little Liars Takes on the Horrors of Being a Teenage Girl\\nVCHA Talk Debut Journey, Touring With TWICE, and Making the Most of Every Moment\\nIs Anime “Cool” Now? Megan Thee Stallion & More Experts Have Thoughts\\nGaten Matarazzo Talks Spoilers, Dustin Henderson, and Growing Up on Stranger Things\\nInternet Mean Girls Came After Avantika. She Continues to Laugh\\nMore from Teen Vogue\\nContact\\n© 2024 Condé Nast. All rights reserved. Teen Vogue may earn a portion of sales from products that are purchased through our site as part of our Affiliate Partnerships with retailers. The material on this site may not be reproduced, distributed, transmitted, cached or otherwise used, except with the prior written permission of Condé Nast. Ad Choices\\n'}], 'response_time': 4.07}\n",
      "--\n",
      "According| to| the| results|,| \"|number| one| girl|\"| is| a| song| by| BLACK|P|INK|'s| Ros|é|,| and| it|'s| her| first| solo| song|.| It|'s| a| piano| ball|ad| that| showcases| her| vocal| abilities| and| emotional| expression|.|"
     ]
    }
   ],
   "source": [
    "async for event in agent_executor.astream_events(\n",
    "    {\"messages\": [HumanMessage(content=\"who is blackpink rose number one girl?\")]}, version=\"v2\", config=config\n",
    "):\n",
    "    kind = event[\"event\"]\n",
    "    if kind == \"on_chain_start\":\n",
    "        if (\n",
    "            event[\"name\"] == \"Agent\"\n",
    "        ):  # Was assigned when creating the agent with `.with_config({\"run_name\": \"Agent\"})`\n",
    "            print(\n",
    "                f\"Starting agent: {event['name']} with input: {event['data'].get('input')}\"\n",
    "            )\n",
    "    elif kind == \"on_chain_end\":\n",
    "        if (\n",
    "            event[\"name\"] == \"Agent\"\n",
    "        ):  # Was assigned when creating the agent with `.with_config({\"run_name\": \"Agent\"})`\n",
    "            print()\n",
    "            print(\"--\")\n",
    "            print(\n",
    "                f\"Done agent: {event['name']} with output: {event['data'].get('output')['output']}\"\n",
    "            )\n",
    "    if kind == \"on_chat_model_stream\":\n",
    "        content = event[\"data\"][\"chunk\"].content\n",
    "        if content:\n",
    "            # Empty content in the context of OpenAI means\n",
    "            # that the model is asking for a tool to be invoked.\n",
    "            # So we only print non-empty content\n",
    "            print(content, end=\"|\")\n",
    "    elif kind == \"on_tool_start\":\n",
    "        print(\"--\")\n",
    "        print(\n",
    "            f\"Starting tool: {event['name']} with inputs: {event['data'].get('input')}\"\n",
    "        )\n",
    "    elif kind == \"on_tool_end\":\n",
    "        print(f\"Done tool: {event['name']}\")\n",
    "        print(f\"Tool output was: {event['data'].get('output')}\")\n",
    "        print(\"--\")\n",
    "\n"
   ]
  },
  {
   "cell_type": "code",
   "execution_count": null,
   "metadata": {},
   "outputs": [],
   "source": []
  }
 ],
 "metadata": {
  "kernelspec": {
   "display_name": "agent_env_py3-11",
   "language": "python",
   "name": "python3"
  },
  "language_info": {
   "codemirror_mode": {
    "name": "ipython",
    "version": 3
   },
   "file_extension": ".py",
   "mimetype": "text/x-python",
   "name": "python",
   "nbconvert_exporter": "python",
   "pygments_lexer": "ipython3",
   "version": "3.11.11"
  }
 },
 "nbformat": 4,
 "nbformat_minor": 2
}
